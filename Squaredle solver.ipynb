{
 "cells": [
  {
   "cell_type": "code",
   "execution_count": null,
   "id": "c93cb3ae",
   "metadata": {
    "scrolled": false
   },
   "outputs": [],
   "source": [
    "pip install pyenchant"
   ]
  },
  {
   "cell_type": "code",
   "execution_count": null,
   "id": "92e29b0a",
   "metadata": {},
   "outputs": [],
   "source": [
    "import enchant\n",
    "d = enchant.Dict(\"en_US\")"
   ]
  },
  {
   "cell_type": "code",
   "execution_count": null,
   "id": "ed96989e",
   "metadata": {},
   "outputs": [],
   "source": [
    "puzzle=[[\"t\",\"h\",\"a\",\"n\",\"k\"],\n",
    "        [\"y\",\"o\",\"u\",\"f\",\"o\"],\n",
    "       [\"r\",\"a\",\"l\",\"l\",\"t\"],\n",
    "       [\"h\",\"e\",\"f\",\"e\",\"e\"],\n",
    "        [\"d\",\"b\",\"a\",\"c\",\"k\"]]\n",
    "#Make sure that it's a square or it won't work\n",
    "#Later i should make check that it's a square, ie a valid Squaredle puzzle"
   ]
  },
  {
   "cell_type": "code",
   "execution_count": 1,
   "id": "541f7017",
   "metadata": {},
   "outputs": [
    {
     "ename": "NameError",
     "evalue": "name 'puzzle' is not defined",
     "output_type": "error",
     "traceback": [
      "\u001b[1;31m---------------------------------------------------------------------------\u001b[0m",
      "\u001b[1;31mNameError\u001b[0m                                 Traceback (most recent call last)",
      "\u001b[1;32m~\\AppData\\Local\\Temp\\ipykernel_14228\\3654409157.py\u001b[0m in \u001b[0;36m<module>\u001b[1;34m\u001b[0m\n\u001b[0;32m      1\u001b[0m \u001b[0mpotentialwords\u001b[0m\u001b[1;33m=\u001b[0m\u001b[1;33m[\u001b[0m\u001b[1;33m]\u001b[0m\u001b[1;33m\u001b[0m\u001b[1;33m\u001b[0m\u001b[0m\n\u001b[0;32m      2\u001b[0m \u001b[0mtotalwords\u001b[0m\u001b[1;33m=\u001b[0m\u001b[1;33m[\u001b[0m\u001b[1;33m]\u001b[0m\u001b[1;33m\u001b[0m\u001b[1;33m\u001b[0m\u001b[0m\n\u001b[1;32m----> 3\u001b[1;33m \u001b[1;32mfor\u001b[0m \u001b[0mi\u001b[0m \u001b[1;32min\u001b[0m \u001b[0mrange\u001b[0m\u001b[1;33m(\u001b[0m\u001b[0mlen\u001b[0m\u001b[1;33m(\u001b[0m\u001b[0mpuzzle\u001b[0m\u001b[1;33m)\u001b[0m\u001b[1;33m)\u001b[0m\u001b[1;33m:\u001b[0m\u001b[1;33m\u001b[0m\u001b[1;33m\u001b[0m\u001b[0m\n\u001b[0m\u001b[0;32m      4\u001b[0m         \u001b[1;32mfor\u001b[0m \u001b[0mj\u001b[0m \u001b[1;32min\u001b[0m \u001b[0mrange\u001b[0m\u001b[1;33m(\u001b[0m\u001b[0mlen\u001b[0m\u001b[1;33m(\u001b[0m\u001b[0mpuzzle\u001b[0m\u001b[1;33m[\u001b[0m\u001b[1;36m0\u001b[0m\u001b[1;33m]\u001b[0m\u001b[1;33m)\u001b[0m\u001b[1;33m)\u001b[0m\u001b[1;33m:\u001b[0m\u001b[1;33m\u001b[0m\u001b[1;33m\u001b[0m\u001b[0m\n\u001b[0;32m      5\u001b[0m             \u001b[0mfirstLetter\u001b[0m\u001b[1;33m=\u001b[0m\u001b[0mpuzzle\u001b[0m\u001b[1;33m[\u001b[0m\u001b[0mi\u001b[0m\u001b[1;33m]\u001b[0m\u001b[1;33m[\u001b[0m\u001b[0mj\u001b[0m\u001b[1;33m]\u001b[0m\u001b[1;33m\u001b[0m\u001b[1;33m\u001b[0m\u001b[0m\n",
      "\u001b[1;31mNameError\u001b[0m: name 'puzzle' is not defined"
     ]
    }
   ],
   "source": [
    "potentialwords=[]\n",
    "totalwords=[]\n",
    "for i in range(len(puzzle)):\n",
    "        for j in range(len(puzzle[0])):\n",
    "            firstLetter=puzzle[i][j]\n",
    "            secondY=0\n",
    "            secondX=0\n",
    "            thirdY=0\n",
    "            thirdX=0\n",
    "            fourthX=0\n",
    "            fourthY=0\n",
    "            #FirstLetter has been defined\n",
    "            for x in range(-1,2,1):\n",
    "                for y in range(-1,2,1):\n",
    "                    if x!=0 or y!=0: #checking that we are changing at least one coordinate\n",
    "                        if ((i+x)>=0) and ((j+y)>=0) and (i+x<len(puzzle)) and (j+y<len(puzzle)): #checking that we are within bounds of the puzzle                   \n",
    "                            secondX=i+x\n",
    "                            secondY=j+y\n",
    "                            secondLetter=puzzle[secondX][secondY]\n",
    "                            thirdLetter=0\n",
    "                            fourthLetter=0\n",
    "                            #If we are within bounds of the puzzle we will continue the exploration from that position\n",
    "                            for q in range(-1,2,1):\n",
    "                                for w in range(-1,2,1):\n",
    "                                    if q!=0 or w!=0:\n",
    "                                        if ((secondX+q)>=0) and ((secondY+w)>=0) and (secondX+q<len(puzzle)) and (secondY+w<len(puzzle)): \n",
    "                                            if q+secondX!=i or secondY+w!=j: #Checking that we are not backtracking to the original letter\n",
    "                                                thirdX=secondX+q\n",
    "                                                thirdY=secondY+w\n",
    "                                                thirdLetter=puzzle[thirdX][thirdY]\n",
    "                                                fourthLetter=0\n",
    "                                                for g in range(-1,2,1):\n",
    "                                                    for h in range(-1,2,1):\n",
    "                                                        if g!=0 or h!=0:\n",
    "                                                            if ((thirdX+g)>=0) and ((thirdY+h)>=0) and (thirdX+g<len(puzzle)) and (thirdY+h<len(puzzle)): \n",
    "                                                                if thirdX+g!=secondX or thirdY+h!=secondY:\n",
    "                                                                    if thirdX+g!=i or thirdY+h!=j:\n",
    "                                                                        fourthLetter=puzzle[thirdX+g][thirdY+h]\n",
    "                                                                        totalwords.append(firstLetter+secondLetter+thirdLetter+fourthLetter)\n",
    "                                                                    if(d.check(str(firstLetter)+str(secondLetter)+str(thirdLetter)+str(fourthLetter))):\n",
    "                                                                        potentialwords.append(firstLetter+secondLetter+thirdLetter+fourthLetter)\n",
    "set(potentialwords)"
   ]
  },
  {
   "cell_type": "code",
   "execution_count": null,
   "id": "22d49595",
   "metadata": {},
   "outputs": [],
   "source": [
    "potentialwords=[]\n",
    "totalwords=[]\n",
    "firstLetter=\"a\"\n",
    "secondLetter=\"a\"\n",
    "thirdLetter=\"a\"\n",
    "fourthLetter=\"a\"\n",
    "for i in range(len(puzzle)):\n",
    "        for j in range(len(puzzle[0])):\n",
    "            firstLetter=puzzle[i][j]\n",
    "            secondY=0\n",
    "            secondX=0\n",
    "            thirdY=0\n",
    "            thirdX=0\n",
    "            fourthX=0\n",
    "            fourthY=0\n",
    "            fifthX=0\n",
    "            fifthY=0\n",
    "            #FirstLetter has been defined\n",
    "            for x in range(-1,2,1):\n",
    "                for y in range(-1,2,1):\n",
    "                    if x!=0 or y!=0: #checking that we are changing at least one coordinate\n",
    "                        if ((i+x)>=0) and ((j+y)>=0) and (i+x<len(puzzle)) and (j+y<len(puzzle)): #checking that we are within bounds of the puzzle                   \n",
    "                            secondX=i+x\n",
    "                            secondY=j+y\n",
    "                            secondLetter=puzzle[secondX][secondY]\n",
    "                            thirdLetter=0\n",
    "                            fourthLetter=0\n",
    "                            #If we are within bounds of the puzzle we will continue the exploration from that position\n",
    "                            for q in range(-1,2,1):\n",
    "                                for w in range(-1,2,1):\n",
    "                                    if q!=0 or w!=0:\n",
    "                                        if ((secondX+q)>=0) and ((secondY+w)>=0) and (secondX+q<len(puzzle)) and (secondY+w<len(puzzle)): \n",
    "                                            if q+secondX!=i or secondY+w!=j: #Checking that we are not backtracking to the original letter\n",
    "                                                thirdX=secondX+q\n",
    "                                                thirdY=secondY+w\n",
    "                                                thirdLetter=puzzle[thirdX][thirdY]\n",
    "                                                fourthLetter=0\n",
    "                                                for g in range(-1,2,1):\n",
    "                                                    for h in range(-1,2,1):\n",
    "                                                        if g!=0 or h!=0:\n",
    "                                                            if ((thirdX+g)>=0) and ((thirdY+h)>=0) and (thirdX+g<len(puzzle)) and (thirdY+h<len(puzzle)): \n",
    "                                                                if thirdX+g!=secondX or thirdY+h!=secondY:\n",
    "                                                                    if thirdX+g!=i or thirdY+h!=j:\n",
    "                                                                        fourthLetter=puzzle[thirdX+g][thirdY+h]\n",
    "                                                                        fourthX=thirdX+g\n",
    "                                                                        fourthY=thirdY+h\n",
    "                                                                        fifthLetter=0\n",
    "                                                                        for o in range(-1,2,1):\n",
    "                                                                            for p in range(-1,2,1):\n",
    "                                                                                if o!=0 or p!=0:\n",
    "                                                                                    if ((fourthX+o)>=0) and ((fourthY+p)>=0) and (fourthX+o<len(puzzle)) and (fourthY+p<len(puzzle)): \n",
    "                                                                                        if fourthX+o!=thirdX or fourthY+p!=thirdY:\n",
    "                                                                                            if fourthX+o!=fourthX or fourthY+p!=fourthY:\n",
    "                                                                                                if fourthX+o!=secondX or fourthY+p!=secondY:\n",
    "                                                                                                    if fourthX+o!=i or fourthY+p!=j: \n",
    "                                                                                                        fifthX=fourthX+o\n",
    "                                                                                                        fifthY=fourthY+p\n",
    "                                                                                                        fifthLetter=puzzle[fifthX][fifthY]\n",
    "                                                                                                        totalwords.append(firstLetter+secondLetter+thirdLetter+fourthLetter)\n",
    "                                                                                                    if(d.check(str(firstLetter)+str(secondLetter)+str(thirdLetter)+str(fourthLetter)+str(fifthLetter))):\n",
    "                                                                                                        potentialwords.append(firstLetter+secondLetter+thirdLetter+fourthLetter+fifthLetter)\n",
    "set(potentialwords)"
   ]
  },
  {
   "cell_type": "code",
   "execution_count": null,
   "id": "896d6191",
   "metadata": {},
   "outputs": [],
   "source": []
  }
 ],
 "metadata": {
  "kernelspec": {
   "display_name": "Python 3 (ipykernel)",
   "language": "python",
   "name": "python3"
  },
  "language_info": {
   "codemirror_mode": {
    "name": "ipython",
    "version": 3
   },
   "file_extension": ".py",
   "mimetype": "text/x-python",
   "name": "python",
   "nbconvert_exporter": "python",
   "pygments_lexer": "ipython3",
   "version": "3.9.13"
  }
 },
 "nbformat": 4,
 "nbformat_minor": 5
}
